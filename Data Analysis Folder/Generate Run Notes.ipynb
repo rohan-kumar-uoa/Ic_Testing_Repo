{
 "cells": [
  {
   "cell_type": "code",
   "execution_count": 1,
   "metadata": {},
   "outputs": [],
   "source": [
    "import numpy as np\n",
    "import matplotlib.pyplot as plt\n",
    "import spekpy as sp\n",
    "from scipy.integrate import quad, cumulative_trapezoid\n",
    "import os\n",
    "import pandas as pd\n",
    "# from datetime import date, time, datetime\n",
    "\n",
    "import time\n",
    "import datetime\n",
    "from nptdms import TdmsFile\n",
    "from uncertainties import unumpy as unp\n",
    "from uncertainties import ufloat\n",
    "import numpy as np\n",
    "import time"
   ]
  },
  {
   "cell_type": "code",
   "execution_count": 9,
   "metadata": {},
   "outputs": [],
   "source": [
    "thurs = {'started': array([\"11:35AM\"]), \"refilled\":array([\"2:48PM\",]), 'mixed': array(['4:20PM', '5:02PM', '5:24PM']), 'date' : '2025-03-13', 'meterWARM' : True}\n",
    "fri = {'started': array([\"10:08AM\"]), \"refilled\":array([\"2:24PM\",]), 'mixed': array(['2:29PM', '3:47PM', '5:05PM']), 'date' : '2025-03-14', 'meterWARM' : False}\n",
    "mon = {'started': array([\"11:00AM\"]), \"refilled\":array([\"3:20PM\",]), 'mixed': array(['1:04PM']), 'date' : '2025-03-17', 'meterWARM' : True}\n",
    "tue = {'started': array([\"10:03AM\"]), \"refilled\":array([\"2:31PM\",]), 'mixed': array(['2:00PM']), 'date' : '2025-03-18', 'meterWARM' : True}\n",
    "wed = {'started': array([\"11:44AM\"]), \"refilled\":array([\"4:35PM\",]), 'mixed': array(['1:56PM', '3:46PM']), 'date' : '2025-03-19', 'meterWARM' : False}\n",
    "alldaydict = array([thurs, fri, mon , tue, wed])\n",
    "\n",
    "def daynotes(alldaydict):\n",
    "    alldaydict_old = alldaydict\n",
    "    alldaydict_new = deepcopy(alldaydict)\n",
    "    for daydict in alldaydict_new:\n",
    "        timekeys = ['started', 'mixed', 'refilled']\n",
    "        daydate = daydict['date']\n",
    "        for tkey in timekeys:\n",
    "            daydict[tkey] = pd.to_datetime(daydate + ' ' + daydict[tkey])\n",
    "\n",
    "        for tkey in ['mixed', 'refilled']:\n",
    "            daydict[tkey] = daydict[tkey] - daydict['started']\n",
    "\n",
    "    return alldaydict_old, alldaydict_new\n",
    "from pandas import TimedeltaIndex, DatetimeIndex\n",
    "# alldaydict_old, alldaydict_new = daynotes(alldaydict)\n",
    "\n",
    "alldaydict_new = array([{'started': DatetimeIndex(['2025-03-13 11:35:00'], dtype='datetime64[ns]', freq=None), 'refilled': TimedeltaIndex(['0 days 03:13:00'], dtype='timedelta64[ns]', freq=None), 'mixed': TimedeltaIndex(['0 days 04:45:00', '0 days 05:27:00', '0 days 05:49:00'], dtype='timedelta64[ns]', freq=None), 'date': '2025-03-13', 'meterWARM': True},\n",
    "       {'started': DatetimeIndex(['2025-03-14 10:08:00'], dtype='datetime64[ns]', freq=None), 'refilled': TimedeltaIndex(['0 days 04:16:00'], dtype='timedelta64[ns]', freq=None), 'mixed': TimedeltaIndex(['0 days 04:21:00', '0 days 05:39:00', '0 days 06:57:00'], dtype='timedelta64[ns]', freq=None), 'date': '2025-03-14', 'meterWARM': False},\n",
    "       {'started': DatetimeIndex(['2025-03-17 11:00:00'], dtype='datetime64[ns]', freq=None), 'refilled': TimedeltaIndex(['0 days 04:20:00'], dtype='timedelta64[ns]', freq=None), 'mixed': TimedeltaIndex(['0 days 02:04:00'], dtype='timedelta64[ns]', freq=None), 'date': '2025-03-17', 'meterWARM': True},\n",
    "       {'started': DatetimeIndex(['2025-03-18 10:03:00'], dtype='datetime64[ns]', freq=None), 'refilled': TimedeltaIndex(['0 days 04:28:00'], dtype='timedelta64[ns]', freq=None), 'mixed': TimedeltaIndex(['0 days 03:57:00'], dtype='timedelta64[ns]', freq=None), 'date': '2025-03-18', 'meterWARM': True},\n",
    "       {'started': DatetimeIndex(['2025-03-19 11:44:00'], dtype='datetime64[ns]', freq=None), 'refilled': TimedeltaIndex(['0 days 04:51:00'], dtype='timedelta64[ns]', freq=None), 'mixed': TimedeltaIndex(['0 days 02:12:00', '0 days 04:02:00'], dtype='timedelta64[ns]', freq=None), 'date': '2025-03-19', 'meterWARM': False}],\n",
    "      dtype=object)\n",
    "\n",
    "alldaydict_old = [{'started': array(['11:35AM'], dtype='<U7'), 'refilled': array(['2:48PM'], dtype='<U6'), 'mixed': array(['4:20PM', '5:02PM', '5:24PM'], dtype='<U6'), 'date': '2025-03-13', 'meterWARM': True}, {'started': array(['10:08AM'], dtype='<U7'), 'refilled': array(['2:24PM'], dtype='<U6'), 'mixed': array(['2:29PM', '3:47PM', '5:05PM'], dtype='<U6'), 'date': '2025-03-14', 'meterWARM': False},  {'started': array(['11:00AM'], dtype='<U7'), 'refilled': array(['3:20PM'], dtype='<U6'), 'mixed': array(['1:04PM'], dtype='<U6'), 'date': '2025-03-17', 'meterWARM': True}, {'started': array(['10:03AM'], dtype='<U7'), 'refilled': array(['2:31PM'], dtype='<U6'), 'mixed': array(['2:00PM'], dtype='<U6'), 'date': '2025-03-18', 'meterWARM': True}, {'started': array(['11:44AM'], dtype='<U7'), 'refilled': array(['4:35PM'], dtype='<U6'), 'mixed': array(['1:56PM', '3:46PM'], dtype='<U6'), 'date': '2025-03-19', 'meterWARM': False}]"
   ]
  },
  {
   "cell_type": "code",
   "execution_count": 10,
   "metadata": {},
   "outputs": [
    {
     "name": "stdout",
     "output_type": "stream",
     "text": [
      "This file contains information about the data in the 'Further Tests' Folder. \n",
      "The start date and time of the experiment on each day is given, along with the relative times at which the liquid nitrogen was either refilled or mixed. \n",
      "\n",
      "Day 1: Thurs ['2025-03-13']\n",
      "Time Started: 11:35:00\n",
      "Times Filled: ['03:13']\n",
      "Times Mixed: ['04:45', '05:27', '05:49']\n",
      "\n",
      "Day 2: Fri ['2025-03-14']\n",
      "Time Started: 10:08:00\n",
      "Times Filled: ['04:16']\n",
      "Times Mixed: ['04:21', '05:39', '06:57']\n",
      "\n",
      "Day 3: Mon ['2025-03-17']\n",
      "Time Started: 11:00:00\n",
      "Times Filled: ['04:20']\n",
      "Times Mixed: ['02:04']\n",
      "\n",
      "Day 4: Tue ['2025-03-18']\n",
      "Time Started: 10:03:00\n",
      "Times Filled: ['04:28']\n",
      "Times Mixed: ['03:57']\n",
      "\n",
      "Day 5: Wed ['2025-03-19']\n",
      "Time Started: 11:44:00\n",
      "Times Filled: ['04:51']\n",
      "Times Mixed: ['02:12', '04:02']\n",
      "\n",
      "\n"
     ]
    }
   ],
   "source": [
    "def tdelta_to_hrmin(relarr):\n",
    "    return [str(relarr[i])[7:12] for i in range(len(relarr))]\n",
    "\n",
    "file_name = 'Further Testing - Run Information.txt'\n",
    "f = open(file_name, \"w\")\n",
    "f.write(\"This file contains information about the data in the 'Further Tests' Folder. \\nThe start date and time of the experiment on each day is given, along with the relative times at which the liquid nitrogen was either refilled or mixed. \\n\\n\")\n",
    "dadd = ['Thurs', 'Fri', 'Mon', 'Tue', 'Wed']\n",
    "for i, (day_abs, day_rel) in enumerate(zip(alldaydict_old, alldaydict_new)):\n",
    "    f.write(f\"Day {i+1}: {dadd[i]} {day_rel['started'].date.astype(str)}\\n\")\n",
    "    f.write(f\"Time Started: {day_rel['started'].time.astype(str)[0]}\\n\")\n",
    "\n",
    "    mixtimes = tdelta_to_hrmin(day_rel['mixed'])\n",
    "    filltimes = tdelta_to_hrmin(day_rel['refilled'])\n",
    "    \n",
    "    f.write(f\"Times Filled: {filltimes}\\n\")\n",
    "    \n",
    "    f.write(f\"Times Mixed: {mixtimes}\\n\")\n",
    "    \n",
    "    \n",
    "    f.write(\"\\n\")\n",
    "f.close()\n",
    "\n",
    "f = open(file_name, \"r\")\n",
    "print(f.read())\n",
    "f.close()"
   ]
  }
 ],
 "metadata": {
  "kernelspec": {
   "display_name": ".venv",
   "language": "python",
   "name": "python3"
  },
  "language_info": {
   "codemirror_mode": {
    "name": "ipython",
    "version": 3
   },
   "file_extension": ".py",
   "mimetype": "text/x-python",
   "name": "python",
   "nbconvert_exporter": "python",
   "pygments_lexer": "ipython3",
   "version": "3.13.3"
  }
 },
 "nbformat": 4,
 "nbformat_minor": 2
}
